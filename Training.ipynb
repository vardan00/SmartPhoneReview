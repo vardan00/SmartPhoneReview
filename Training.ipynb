{
 "cells": [
  {
   "cell_type": "markdown",
   "metadata": {},
   "source": [
    "#### Downloading data in a zip file and unzip it"
   ]
  },
  {
   "cell_type": "code",
   "execution_count": 1,
   "metadata": {},
   "outputs": [],
   "source": [
    "import urllib.request\n",
    "import io\n",
    "import gzip\n",
    "url = 'http://snap.stanford.edu/data/amazon/productGraph/categoryFiles/reviews_Cell_Phones_and_Accessories_5.json.gz'\n",
    "response = urllib.request.urlopen(url)\n",
    "compressed_file = io.BytesIO(response.read())\n",
    "decompressed_file = gzip.GzipFile(fileobj=compressed_file)\n",
    "\n",
    "with open(\"data.json\", 'wb') as outfile:\n",
    "    outfile.write(decompressed_file.read())"
   ]
  },
  {
   "cell_type": "markdown",
   "metadata": {},
   "source": [
    "#### Making a list of words from the json we unzipped above"
   ]
  },
  {
   "cell_type": "code",
   "execution_count": 1,
   "metadata": {},
   "outputs": [
    {
     "name": "stdout",
     "output_type": "stream",
     "text": [
      "\n"
     ]
    },
    {
     "data": {
      "text/plain": [
       "[{'asin': '120401325X',\n",
       "  'helpful': [0, 0],\n",
       "  'overall': 4.0,\n",
       "  'reviewText': \"They look good and stick good! I just don't like the rounded shape because I was always bumping it and Siri kept popping up and it was irritating. I just won't buy a product like this again\",\n",
       "  'reviewTime': '05 21, 2014',\n",
       "  'reviewerID': 'A30TL5EWN6DFXT',\n",
       "  'reviewerName': 'christina',\n",
       "  'summary': 'Looks Good',\n",
       "  'unixReviewTime': 1400630400}]"
      ]
     },
     "execution_count": 1,
     "metadata": {},
     "output_type": "execute_result"
    }
   ],
   "source": [
    "import json\n",
    "with open(\"data.json\", 'r') as f:\n",
    "  x = f.read()\n",
    "  reviewsList = x.split(\"\\n\")\n",
    "  listOfDicts = []\n",
    "  for review in reviewsList:\n",
    "    try:\n",
    "      p = json.loads(review)\n",
    "      listOfDicts.append(p)\n",
    "    except:\n",
    "      print(review)\n",
    "listOfDicts[:1]"
   ]
  },
  {
   "cell_type": "code",
   "execution_count": null,
   "metadata": {},
   "outputs": [],
   "source": [
    "# test = listOfDicts[90000:]\n",
    "# listOfDicts = listOfDicts[:70000]\n",
    "# print(len(listOfDicts))"
   ]
  },
  {
   "cell_type": "markdown",
   "metadata": {},
   "source": [
    "#### Import nltk to get stopwords which we are going to use later to remove in the text we downloaded above"
   ]
  },
  {
   "cell_type": "code",
   "execution_count": 2,
   "metadata": {},
   "outputs": [],
   "source": [
    "import nltk\n",
    "#nltk.download()\n",
    "from nltk.corpus import stopwords\n",
    "stop_words = list(stopwords.words('english'))"
   ]
  },
  {
   "cell_type": "markdown",
   "metadata": {},
   "source": [
    "#### From listofDict we made above we remove stop words and prefix, suffix using PorterStemmer and WordNetLemmatizer"
   ]
  },
  {
   "cell_type": "code",
   "execution_count": 3,
   "metadata": {
    "scrolled": true
   },
   "outputs": [
    {
     "data": {
      "text/plain": [
       "[(['they',\n",
       "   'look',\n",
       "   'good',\n",
       "   'stick',\n",
       "   'good',\n",
       "   '!',\n",
       "   'I',\n",
       "   \"n't\",\n",
       "   'like',\n",
       "   'round',\n",
       "   'shape',\n",
       "   'I',\n",
       "   'alway',\n",
       "   'bump',\n",
       "   'siri',\n",
       "   'kept',\n",
       "   'pop',\n",
       "   'irrit',\n",
       "   '.',\n",
       "   'I',\n",
       "   'wo',\n",
       "   \"n't\",\n",
       "   'buy',\n",
       "   'product',\n",
       "   'like'],\n",
       "  4.0),\n",
       " (['these',\n",
       "   'sticker',\n",
       "   'work',\n",
       "   'like',\n",
       "   'review',\n",
       "   'say',\n",
       "   '.',\n",
       "   'they',\n",
       "   'stick',\n",
       "   'great',\n",
       "   'stay',\n",
       "   'phone',\n",
       "   '.',\n",
       "   'they',\n",
       "   'super',\n",
       "   'stylish',\n",
       "   'I',\n",
       "   'share',\n",
       "   'sister',\n",
       "   '.',\n",
       "   ':',\n",
       "   ')'],\n",
       "  5.0)]"
      ]
     },
     "execution_count": 3,
     "metadata": {},
     "output_type": "execute_result"
    }
   ],
   "source": [
    "from nltk.stem import PorterStemmer\n",
    "from nltk.stem.wordnet import WordNetLemmatizer\n",
    "trainingData = []\n",
    "porter = PorterStemmer()\n",
    "wnl = WordNetLemmatizer()\n",
    "for review in listOfDicts:\n",
    "    #text = review[\"reviewText\"].split(\" \")\n",
    "    text = nltk.word_tokenize(review[\"reviewText\"])\n",
    "    rwords=[]\n",
    "    for t in text:\n",
    "        if t not in stop_words:\n",
    "            t = porter.stem(t)\n",
    "            t = wnl.lemmatize(t)\n",
    "            rwords.append(t)\n",
    "    rating = review[\"overall\"]\n",
    "    trainingData.append((rwords,rating))\n",
    "\n",
    " \n",
    "trainingData[:2]\n",
    "\n"
   ]
  },
  {
   "cell_type": "markdown",
   "metadata": {},
   "source": [
    "#### Here we are trying to shuffle data so that we randomly pick data while training"
   ]
  },
  {
   "cell_type": "code",
   "execution_count": 4,
   "metadata": {},
   "outputs": [
    {
     "data": {
      "text/plain": [
       "[(['the',\n",
       "   'belkin',\n",
       "   'charger',\n",
       "   'nice',\n",
       "   'construct',\n",
       "   'easi',\n",
       "   'hold',\n",
       "   'insert',\n",
       "   'remov',\n",
       "   'socket',\n",
       "   '.',\n",
       "   'I',\n",
       "   'like',\n",
       "   'taper',\n",
       "   'bodi',\n",
       "   'soft',\n",
       "   'rubber',\n",
       "   'green',\n",
       "   'strip',\n",
       "   'aid',\n",
       "   'grip',\n",
       "   '.',\n",
       "   'the',\n",
       "   'charger',\n",
       "   'work',\n",
       "   'fine',\n",
       "   'ipad',\n",
       "   '-',\n",
       "   'I',\n",
       "   \"'m\",\n",
       "   'equip',\n",
       "   'measur',\n",
       "   'actual',\n",
       "   'power',\n",
       "   'output',\n",
       "   ',',\n",
       "   'I',\n",
       "   'reason',\n",
       "   'believ',\n",
       "   \"n't\",\n",
       "   'meet',\n",
       "   'spec.th',\n",
       "   'cabl',\n",
       "   'fairli',\n",
       "   'typical-look',\n",
       "   'lightn',\n",
       "   'cabl',\n",
       "   '.',\n",
       "   'I',\n",
       "   'like',\n",
       "   'lightn',\n",
       "   'end',\n",
       "   'almost',\n",
       "   'size',\n",
       "   'appl',\n",
       "   \"'s\",\n",
       "   ',',\n",
       "   'wo',\n",
       "   \"n't\",\n",
       "   'issu',\n",
       "   'case',\n",
       "   'cabl',\n",
       "   ',',\n",
       "   'amazon',\n",
       "   'basic',\n",
       "   ',',\n",
       "   '.',\n",
       "   'I',\n",
       "   'also',\n",
       "   'like',\n",
       "   \"'s\",\n",
       "   'four',\n",
       "   'foot',\n",
       "   'instead',\n",
       "   'usual',\n",
       "   'three.i',\n",
       "   'knock',\n",
       "   'half',\n",
       "   'star',\n",
       "   'led',\n",
       "   'indic',\n",
       "   'power',\n",
       "   '.',\n",
       "   'nearli',\n",
       "   'third-parti',\n",
       "   'charger',\n",
       "   'I',\n",
       "   'use',\n",
       "   'led',\n",
       "   '.',\n",
       "   'also',\n",
       "   ',',\n",
       "   'AC',\n",
       "   'prong',\n",
       "   'fix',\n",
       "   \"n't\",\n",
       "   'fold',\n",
       "   '.'],\n",
       "  4.0),\n",
       " (['So',\n",
       "   'I',\n",
       "   ',',\n",
       "   'child',\n",
       "   \"'s\",\n",
       "   'championship',\n",
       "   'swim',\n",
       "   'meet',\n",
       "   ',',\n",
       "   'iphon',\n",
       "   'camera/video',\n",
       "   'devic',\n",
       "   '.',\n",
       "   'due',\n",
       "   'spotti',\n",
       "   'signal',\n",
       "   'earlier',\n",
       "   'pictur',\n",
       "   'video',\n",
       "   ',',\n",
       "   'batteri',\n",
       "   'exhaust',\n",
       "   'pretti',\n",
       "   'quickli',\n",
       "   '.',\n",
       "   'the',\n",
       "   'problem',\n",
       "   '?',\n",
       "   'I',\n",
       "   'forgotten',\n",
       "   'charg',\n",
       "   'cabl',\n",
       "   '!',\n",
       "   'So',\n",
       "   'I',\n",
       "   'go',\n",
       "   'around',\n",
       "   'tent',\n",
       "   'tent',\n",
       "   ',',\n",
       "   'ask',\n",
       "   'random',\n",
       "   '(',\n",
       "   'mani',\n",
       "   'case',\n",
       "   'unknown',\n",
       "   ')',\n",
       "   'peopl',\n",
       "   'cabl',\n",
       "   'I',\n",
       "   'could',\n",
       "   'use',\n",
       "   '.',\n",
       "   '``',\n",
       "   'If',\n",
       "   'I',\n",
       "   'batteri',\n",
       "   'case',\n",
       "   'portabl',\n",
       "   'charger',\n",
       "   '...',\n",
       "   \"''\",\n",
       "   ',',\n",
       "   'I',\n",
       "   'thought',\n",
       "   '.',\n",
       "   'well',\n",
       "   ',',\n",
       "   'I',\n",
       "   '!',\n",
       "   'when',\n",
       "   'I',\n",
       "   'receiv',\n",
       "   'opportun',\n",
       "   'review',\n",
       "   'belkin',\n",
       "   'grip',\n",
       "   'power',\n",
       "   'batteri',\n",
       "   'case',\n",
       "   'iphon',\n",
       "   '5',\n",
       "   ',',\n",
       "   'I',\n",
       "   'jump',\n",
       "   '.',\n",
       "   'the',\n",
       "   'situat',\n",
       "   'someth',\n",
       "   'I',\n",
       "   'want',\n",
       "   'deal',\n",
       "   '.',\n",
       "   'I',\n",
       "   'use',\n",
       "   'review',\n",
       "   'belkin',\n",
       "   'case',\n",
       "   'mix',\n",
       "   'result',\n",
       "   ',',\n",
       "   'I',\n",
       "   'sure',\n",
       "   'expect',\n",
       "   '.',\n",
       "   'howev',\n",
       "   ',',\n",
       "   'I',\n",
       "   'pleasantli',\n",
       "   'surpris',\n",
       "   'case',\n",
       "   '!',\n",
       "   'foremost',\n",
       "   ',',\n",
       "   'temper',\n",
       "   'expect',\n",
       "   'size',\n",
       "   '.',\n",
       "   'thi',\n",
       "   'case',\n",
       "   'IS',\n",
       "   'hefti',\n",
       "   '.',\n",
       "   'while',\n",
       "   'margin',\n",
       "   'increas',\n",
       "   'height',\n",
       "   'width',\n",
       "   'phone',\n",
       "   ',',\n",
       "   'manag',\n",
       "   'push',\n",
       "   'iphon',\n",
       "   '5',\n",
       "   \"'s\",\n",
       "   'quarter-inch',\n",
       "   'thick',\n",
       "   'nearli',\n",
       "   'doubl',\n",
       "   '!',\n",
       "   'It',\n",
       "   'also',\n",
       "   'add',\n",
       "   'consider',\n",
       "   'weight',\n",
       "   ',',\n",
       "   'though',\n",
       "   'feel',\n",
       "   'well-balanc',\n",
       "   '.',\n",
       "   'thi',\n",
       "   'appear',\n",
       "   'bigger',\n",
       "   'compet',\n",
       "   'case',\n",
       "   ',',\n",
       "   'but',\n",
       "   'get',\n",
       "   'return',\n",
       "   'batteri',\n",
       "   'life',\n",
       "   'well-design',\n",
       "   'case',\n",
       "   '.',\n",
       "   'but',\n",
       "   \"'s\",\n",
       "   'necessarili',\n",
       "   'case',\n",
       "   'want',\n",
       "   'go',\n",
       "   'run',\n",
       "   ',',\n",
       "   'either.let',\n",
       "   \"'s\",\n",
       "   'review',\n",
       "   'belkin',\n",
       "   \"'s\",\n",
       "   'product',\n",
       "   'claim',\n",
       "   ':',\n",
       "   'claim',\n",
       "   ':',\n",
       "   '``',\n",
       "   'doubl',\n",
       "   'batteri',\n",
       "   'life',\n",
       "   'your',\n",
       "   'iphon',\n",
       "   '5',\n",
       "   \"''\",\n",
       "   'find',\n",
       "   ':',\n",
       "   'charg',\n",
       "   'nearli',\n",
       "   'dead',\n",
       "   ',',\n",
       "   'took',\n",
       "   '2.5',\n",
       "   'hour',\n",
       "   'get',\n",
       "   'phone',\n",
       "   'around',\n",
       "   '90',\n",
       "   '%',\n",
       "   '.',\n",
       "   'that',\n",
       "   'appear',\n",
       "   'pretti',\n",
       "   'much',\n",
       "   'deplet',\n",
       "   'case',\n",
       "   \"'s\",\n",
       "   'batteri',\n",
       "   '.',\n",
       "   'So',\n",
       "   'restor',\n",
       "   'quit',\n",
       "   'bit',\n",
       "   'life',\n",
       "   ',',\n",
       "   \"'s\",\n",
       "   'quit',\n",
       "   '``',\n",
       "   'doubl',\n",
       "   \"''\",\n",
       "   '.',\n",
       "   'howev',\n",
       "   ',',\n",
       "   'use',\n",
       "   'case',\n",
       "   'fulli',\n",
       "   'charg',\n",
       "   'phone',\n",
       "   ',',\n",
       "   'I',\n",
       "   \"'ve\",\n",
       "   'manag',\n",
       "   'go',\n",
       "   'coupl',\n",
       "   'day',\n",
       "   'without',\n",
       "   'charg',\n",
       "   'light/moder',\n",
       "   'use',\n",
       "   '.',\n",
       "   'the',\n",
       "   'case',\n",
       "   'appear',\n",
       "   'charg',\n",
       "   'phone',\n",
       "   'rate',\n",
       "   '10',\n",
       "   '%',\n",
       "   'everi',\n",
       "   '15-20',\n",
       "   'minut',\n",
       "   '(',\n",
       "   'though',\n",
       "   'seem',\n",
       "   'vari',\n",
       "   'depend',\n",
       "   'run',\n",
       "   'phone',\n",
       "   ')',\n",
       "   '.',\n",
       "   'the',\n",
       "   'case',\n",
       "   'small',\n",
       "   ',',\n",
       "   'unobtrus',\n",
       "   'button',\n",
       "   'back',\n",
       "   'purpos',\n",
       "   'check',\n",
       "   'batteri',\n",
       "   'life',\n",
       "   '(',\n",
       "   'case',\n",
       "   ')',\n",
       "   'initi',\n",
       "   'charg',\n",
       "   '.',\n",
       "   'It',\n",
       "   'also',\n",
       "   '4',\n",
       "   'small',\n",
       "   'led',\n",
       "   'display',\n",
       "   'batteri',\n",
       "   'life',\n",
       "   'case',\n",
       "   '.',\n",
       "   'these',\n",
       "   'also',\n",
       "   'small',\n",
       "   'look',\n",
       "   'nice',\n",
       "   '.',\n",
       "   'I',\n",
       "   'definit',\n",
       "   'found',\n",
       "   'benefit',\n",
       "   'case',\n",
       "   're-charg',\n",
       "   'dead',\n",
       "   'phone',\n",
       "   'emerg',\n",
       "   'use',\n",
       "   ',',\n",
       "   '``',\n",
       "   'top',\n",
       "   \"''\",\n",
       "   'batteri',\n",
       "   'start',\n",
       "   'get',\n",
       "   'low',\n",
       "   'thu',\n",
       "   'extend',\n",
       "   'use',\n",
       "   'cycl',\n",
       "   'charges.claim',\n",
       "   ':',\n",
       "   '``',\n",
       "   'protect',\n",
       "   'your',\n",
       "   'iphon',\n",
       "   '5',\n",
       "   'from',\n",
       "   'shock',\n",
       "   'scratch',\n",
       "   \"''\",\n",
       "   'find',\n",
       "   ':',\n",
       "   'thi',\n",
       "   'case',\n",
       "   'actual',\n",
       "   'seem',\n",
       "   'excel',\n",
       "   ',',\n",
       "   'though',\n",
       "   'I',\n",
       "   'drop',\n",
       "   'see',\n",
       "   'hold',\n",
       "   'togeth',\n",
       "   '.',\n",
       "   'I',\n",
       "   'impress',\n",
       "   '``',\n",
       "   'fit',\n",
       "   'finish',\n",
       "   \"''\",\n",
       "   'case',\n",
       "   '.',\n",
       "   'the',\n",
       "   'way',\n",
       "   'bezel',\n",
       "   'snap',\n",
       "   'realli',\n",
       "   'give',\n",
       "   '``',\n",
       "   'seamless',\n",
       "   \"''\",\n",
       "   'feel',\n",
       "   '.',\n",
       "   'the',\n",
       "   'case',\n",
       "   'I',\n",
       "   'receiv',\n",
       "   'black',\n",
       "   'gray',\n",
       "   '.',\n",
       "   'It',\n",
       "   'nice',\n",
       "   '``',\n",
       "   'soft',\n",
       "   \"''\",\n",
       "   '(',\n",
       "   'matt',\n",
       "   ')',\n",
       "   'feel',\n",
       "   ',',\n",
       "   'glossi',\n",
       "   'black',\n",
       "   'bezel',\n",
       "   'around',\n",
       "   'face',\n",
       "   'phone',\n",
       "   '.',\n",
       "   'the',\n",
       "   'bezel',\n",
       "   'slightli',\n",
       "   'rais',\n",
       "   ',',\n",
       "   'help',\n",
       "   'prevent',\n",
       "   'scratch',\n",
       "   'lay',\n",
       "   '(',\n",
       "   'drop',\n",
       "   '!',\n",
       "   ')',\n",
       "   'phone',\n",
       "   'face',\n",
       "   '.',\n",
       "   'but',\n",
       "   'sinc',\n",
       "   'bezel',\n",
       "   'glossi',\n",
       "   'plastic',\n",
       "   ',',\n",
       "   'offer',\n",
       "   'kind',\n",
       "   'anti-slid',\n",
       "   'function',\n",
       "   ',',\n",
       "   'either.claim',\n",
       "   ':',\n",
       "   '``',\n",
       "   'simpl',\n",
       "   'instal',\n",
       "   'use',\n",
       "   \"''\",\n",
       "   'find',\n",
       "   ':',\n",
       "   'instal',\n",
       "   'inde',\n",
       "   'snap',\n",
       "   '.',\n",
       "   'liter',\n",
       "   '.',\n",
       "   'you',\n",
       "   'put',\n",
       "   'phone',\n",
       "   'batteri',\n",
       "   ',',\n",
       "   'snap',\n",
       "   'bezel',\n",
       "   'place',\n",
       "   '.',\n",
       "   'probabl',\n",
       "   'one',\n",
       "   'easiest',\n",
       "   'case',\n",
       "   'I',\n",
       "   \"'ve\",\n",
       "   'instal',\n",
       "   '.',\n",
       "   'remov',\n",
       "   'simpl',\n",
       "   ',',\n",
       "   'well',\n",
       "   '.',\n",
       "   'I',\n",
       "   'found',\n",
       "   'phone',\n",
       "   \"'s\",\n",
       "   'button',\n",
       "   'respons',\n",
       "   'easi',\n",
       "   'use',\n",
       "   ',',\n",
       "   'one',\n",
       "   'except',\n",
       "   '-',\n",
       "   'reason',\n",
       "   ',',\n",
       "   'not',\n",
       "   'extend',\n",
       "   'cover',\n",
       "   'mute',\n",
       "   'rocker',\n",
       "   'switch',\n",
       "   '!',\n",
       "   'I',\n",
       "   'big',\n",
       "   'finger',\n",
       "   'fingernail',\n",
       "   ',',\n",
       "   'realli',\n",
       "   'struggl',\n",
       "   'get',\n",
       "   'even',\n",
       "   'pinki',\n",
       "   'hole',\n",
       "   'toggl',\n",
       "   'switch',\n",
       "   '.',\n",
       "   'Of',\n",
       "   'cours',\n",
       "   ',',\n",
       "   'find',\n",
       "   'tog',\n",
       "   'switch',\n",
       "   'accid',\n",
       "   'case',\n",
       "   ',',\n",
       "   'case',\n",
       "   'certainli',\n",
       "   'negat',\n",
       "   'issue.claim',\n",
       "   ':',\n",
       "   '``',\n",
       "   'charg',\n",
       "   'both',\n",
       "   'batteri',\n",
       "   'one',\n",
       "   'cabl',\n",
       "   \"''\",\n",
       "   'find',\n",
       "   ':',\n",
       "   'thi',\n",
       "   'can',\n",
       "   'done',\n",
       "   ',',\n",
       "   'seem',\n",
       "   'bit',\n",
       "   'particular',\n",
       "   'time',\n",
       "   '.',\n",
       "   'first',\n",
       "   ',',\n",
       "   'case',\n",
       "   'come',\n",
       "   'micro-usb',\n",
       "   'cabl',\n",
       "   '-',\n",
       "   'not',\n",
       "   'actual',\n",
       "   'charger',\n",
       "   '.',\n",
       "   'So',\n",
       "   'use',\n",
       "   'comput',\n",
       "   'would',\n",
       "   'take',\n",
       "   'time',\n",
       "   'recharg',\n",
       "   '.',\n",
       "   'I',\n",
       "   'found',\n",
       "   'use',\n",
       "   'micro-usb',\n",
       "   'charger',\n",
       "   'I',\n",
       "   'hand',\n",
       "   'work',\n",
       "   'fine',\n",
       "   ',',\n",
       "   'fit',\n",
       "   'quit',\n",
       "   'well',\n",
       "   'small',\n",
       "   'charg',\n",
       "   'inlet',\n",
       "   '.',\n",
       "   'also',\n",
       "   ',',\n",
       "   'I',\n",
       "   'plug',\n",
       "   'one',\n",
       "   'night',\n",
       "   ',',\n",
       "   'I',\n",
       "   'receiv',\n",
       "   'yellow',\n",
       "   'triangl',\n",
       "   'warn',\n",
       "   '``',\n",
       "   'charg',\n",
       "   'support',\n",
       "   'devic',\n",
       "   \"''\",\n",
       "   '.',\n",
       "   'but',\n",
       "   'next',\n",
       "   'night',\n",
       "   '(',\n",
       "   'use',\n",
       "   'exact',\n",
       "   'cabl',\n",
       "   'charger',\n",
       "   ')',\n",
       "   'work',\n",
       "   'fine',\n",
       "   '.',\n",
       "   'sinc',\n",
       "   'I',\n",
       "   'synch',\n",
       "   'wirelessli',\n",
       "   ',',\n",
       "   'I',\n",
       "   'check',\n",
       "   'see',\n",
       "   'synch',\n",
       "   'work',\n",
       "   'via',\n",
       "   'case',\n",
       "   ',',\n",
       "   'I',\n",
       "   'would',\n",
       "   'quit',\n",
       "   'surpris',\n",
       "   'does.claim',\n",
       "   ':',\n",
       "   '``',\n",
       "   'take',\n",
       "   'photo',\n",
       "   'use',\n",
       "   'earpod',\n",
       "   'case',\n",
       "   'On',\n",
       "   \"''\",\n",
       "   'find',\n",
       "   ':',\n",
       "   'take',\n",
       "   'photo',\n",
       "   'caus',\n",
       "   'problem',\n",
       "   '.',\n",
       "   'there',\n",
       "   'issu',\n",
       "   'lens',\n",
       "   'flare',\n",
       "   'use',\n",
       "   'flash',\n",
       "   '.',\n",
       "   'the',\n",
       "   'earpod',\n",
       "   'usag',\n",
       "   'bit',\n",
       "   'awkward',\n",
       "   '.',\n",
       "   'the',\n",
       "   'case',\n",
       "   'came',\n",
       "   'extender/adapt',\n",
       "   'make',\n",
       "   'easier',\n",
       "   'plug/unplug',\n",
       "   'earpod',\n",
       "   'without',\n",
       "   'pull',\n",
       "   'wire',\n",
       "   '.',\n",
       "   'I',\n",
       "   'notic',\n",
       "   'issu',\n",
       "   'call',\n",
       "   'sound',\n",
       "   'qualiti',\n",
       "   'use',\n",
       "   'extens',\n",
       "   ',',\n",
       "   \"'s\",\n",
       "   'bit',\n",
       "   'annoy',\n",
       "   'rememb',\n",
       "   'carri',\n",
       "   '.',\n",
       "   'that',\n",
       "   'said',\n",
       "   ',',\n",
       "   'care',\n",
       "   'earpod',\n",
       "   'will',\n",
       "   'plug',\n",
       "   'without',\n",
       "   'extend',\n",
       "   '.',\n",
       "   'honestli',\n",
       "   ',',\n",
       "   'though',\n",
       "   ',',\n",
       "   'I',\n",
       "   \"'m\",\n",
       "   'sure',\n",
       "   \"n't\",\n",
       "   'build',\n",
       "   'extend',\n",
       "   'case',\n",
       "   'itself.compar',\n",
       "   'price',\n",
       "   'point',\n",
       "   'similar',\n",
       "   'case',\n",
       "   'market',\n",
       "   '(',\n",
       "   'mophi',\n",
       "   ')',\n",
       "   ',',\n",
       "   'belkin',\n",
       "   'grip',\n",
       "   'power',\n",
       "   'case',\n",
       "   'appear',\n",
       "   'offer',\n",
       "   'similar',\n",
       "   'qualiti',\n",
       "   'featur',\n",
       "   'much',\n",
       "   'lower',\n",
       "   'price',\n",
       "   '.',\n",
       "   'the',\n",
       "   'issu',\n",
       "   'I',\n",
       "   ',',\n",
       "   'due',\n",
       "   'thick',\n",
       "   ',',\n",
       "   'work',\n",
       "   'iotti',\n",
       "   'easyflex2',\n",
       "   'dash',\n",
       "   'mount',\n",
       "   '.',\n",
       "   'It',\n",
       "   'also',\n",
       "   'would',\n",
       "   'work',\n",
       "   '30-pin',\n",
       "   'accessori',\n",
       "   'adapt',\n",
       "   ',',\n",
       "   \"'s\",\n",
       "   'someth',\n",
       "   'consid',\n",
       "   '.',\n",
       "   'thi',\n",
       "   'like',\n",
       "   'not',\n",
       "   'full-tim',\n",
       "   'case',\n",
       "   ',',\n",
       "   'definit',\n",
       "   'one',\n",
       "   'I',\n",
       "   'reli',\n",
       "   'upon',\n",
       "   'situat',\n",
       "   'I',\n",
       "   'may',\n",
       "   'need',\n",
       "   'extend',\n",
       "   'batteri',\n",
       "   'life',\n",
       "   '.',\n",
       "   'overal',\n",
       "   ',',\n",
       "   'I',\n",
       "   'give',\n",
       "   '4.5',\n",
       "   'star',\n",
       "   ',',\n",
       "   '``',\n",
       "   'B+',\n",
       "   \"''\",\n",
       "   'grade',\n",
       "   'way',\n",
       "   '.'],\n",
       "  4.0)]"
      ]
     },
     "execution_count": 4,
     "metadata": {},
     "output_type": "execute_result"
    }
   ],
   "source": [
    "import random\n",
    "random.shuffle(trainingData)\n",
    "trainingData[:2]"
   ]
  },
  {
   "cell_type": "markdown",
   "metadata": {},
   "source": [
    "#### Now lets try to get word features to the word list we made above"
   ]
  },
  {
   "cell_type": "code",
   "execution_count": 5,
   "metadata": {},
   "outputs": [
    {
     "data": {
      "text/plain": [
       "['phone', 'case', 'use', \"n't\", 'the']"
      ]
     },
     "execution_count": 5,
     "metadata": {},
     "output_type": "execute_result"
    }
   ],
   "source": [
    "# Get all the words from all the tweets\n",
    "def get_words_in_tweets(tweets):\n",
    "    all_words = []\n",
    "    all_words2 = []\n",
    "    for (words, sentiment) in tweets:\n",
    "        all_words.extend(words)\n",
    "    for word in all_words:\n",
    "      if len(word)>2:\n",
    "        all_words2.append(word)\n",
    "    return all_words2\n",
    "  \n",
    "\n",
    "# Extract the most frequent words\n",
    "def get_word_features(wordlist):\n",
    "    wordlist = nltk.FreqDist(wordlist)\n",
    "    word_features = [w for (w, c) in wordlist.most_common(2000)]\n",
    "    return word_features\n",
    "\n",
    "word_features = get_word_features(get_words_in_tweets(trainingData))\n",
    "word_features[:5]"
   ]
  },
  {
   "cell_type": "markdown",
   "metadata": {},
   "source": [
    "#### lets check length of word list and word features"
   ]
  },
  {
   "cell_type": "code",
   "execution_count": 6,
   "metadata": {},
   "outputs": [
    {
     "name": "stdout",
     "output_type": "stream",
     "text": [
      "194439\n",
      "2000\n"
     ]
    }
   ],
   "source": [
    "print(len(trainingData))\n",
    "print(len(word_features))"
   ]
  },
  {
   "cell_type": "markdown",
   "metadata": {},
   "source": [
    "#### Now we define a function, which we are going to use later, to extract features for a document"
   ]
  },
  {
   "cell_type": "code",
   "execution_count": 7,
   "metadata": {},
   "outputs": [],
   "source": [
    "def extract_features(document): # I renamed it; that's all\n",
    "    document_words = set(document)\n",
    "    features = {}\n",
    "    for word in word_features:\n",
    "        features[word] = (word in document_words)\n",
    "    return features"
   ]
  },
  {
   "cell_type": "markdown",
   "metadata": {},
   "source": [
    "#### Now let's select training and testing set after applying extract features function we defined above"
   ]
  },
  {
   "cell_type": "code",
   "execution_count": 8,
   "metadata": {},
   "outputs": [
    {
     "name": "stdout",
     "output_type": "stream",
     "text": [
      "70000\n"
     ]
    }
   ],
   "source": [
    "training_set = nltk.classify.apply_features(extract_features, trainingData)\n",
    "new_training_set = training_set[:70000]\n",
    "new_testing_set = training_set[80000:90000]\n",
    "print(len(new_training_set))"
   ]
  },
  {
   "cell_type": "markdown",
   "metadata": {},
   "source": [
    "#### Lets apply LinearSVC to training set we selected above"
   ]
  },
  {
   "cell_type": "code",
   "execution_count": 9,
   "metadata": {},
   "outputs": [
    {
     "data": {
      "text/plain": [
       "<SklearnClassifier(LinearSVC(C=1.0, class_weight=None, dual=True, fit_intercept=True,\n",
       "     intercept_scaling=1, loss='squared_hinge', max_iter=1000,\n",
       "     multi_class='ovr', penalty='l2', random_state=None, tol=0.0001,\n",
       "     verbose=0))>"
      ]
     },
     "execution_count": 9,
     "metadata": {},
     "output_type": "execute_result"
    }
   ],
   "source": [
    "import nltk.classify\n",
    "from sklearn.svm import LinearSVC\n",
    "\n",
    "classifier = nltk.classify.SklearnClassifier(LinearSVC())\n",
    "classifier.train(new_training_set)\n",
    "\n",
    "\n"
   ]
  },
  {
   "cell_type": "markdown",
   "metadata": {},
   "source": [
    "#### Now we shall check the accuracy of the classifier we ran above"
   ]
  },
  {
   "cell_type": "code",
   "execution_count": 11,
   "metadata": {},
   "outputs": [
    {
     "name": "stdout",
     "output_type": "stream",
     "text": [
      "0.6232\n"
     ]
    }
   ],
   "source": [
    "test1 = new_testing_set[0:10000]\n",
    "count = 0\n",
    "for t in test1:\n",
    "    predict = classifier.classify(t[0])\n",
    "    if predict == t[1]:\n",
    "        count = count + 1\n",
    "print(count/10000)\n",
    "    "
   ]
  },
  {
   "cell_type": "markdown",
   "metadata": {},
   "source": [
    "#### Here we shall save the LinearSVC classifier model we trained above"
   ]
  },
  {
   "cell_type": "code",
   "execution_count": 15,
   "metadata": {},
   "outputs": [],
   "source": [
    "import pickle\n",
    "pickle.dump(classifier,open('Models/SVMClassifier','wb'))"
   ]
  },
  {
   "cell_type": "markdown",
   "metadata": {},
   "source": [
    "#### Now lets load and test LinearSVC classifier model we saved in above step"
   ]
  },
  {
   "cell_type": "code",
   "execution_count": 16,
   "metadata": {},
   "outputs": [
    {
     "name": "stdout",
     "output_type": "stream",
     "text": [
      "5.0\n"
     ]
    }
   ],
   "source": [
    "loadedClassifier = pickle.load(open('Models/SVMClassifier','rb'))\n",
    "t = \"Samsung was much better than Iphone\"\n",
    "predict = classifier.classify(extract_features(t.split()))\n",
    "print(predict)"
   ]
  },
  {
   "cell_type": "markdown",
   "metadata": {},
   "source": [
    "#### Simply we will see the content of extract feature for simple text"
   ]
  },
  {
   "cell_type": "code",
   "execution_count": 37,
   "metadata": {},
   "outputs": [
    {
     "name": "stdout",
     "output_type": "stream",
     "text": [
      "{'phone': False, 'case': False, 'charg': False, 'like': False, 'work': False, 'great': False, 'batteri': False, 'screen': False, 'would': False, 'good': False, 'look': False, 'iphon': False, 'well': False, 'time': False, 'charger': False, 'protect': False, 'product': False, 'devic': False, 'realli': False, 'love': False, 'also': False, 'protector': False, 'need': False, 'make': False, 'nice': False, 'back': False, 'much': False, 'price': False, 'littl': False, 'qualiti': False, 'cover': False, 'even': False, 'cabl': False, 'easi': False, 'power': False, 'button': False, 'feel': False, 'want': False, 'recommend': False, 'still': False, 'come': False, 'thing': False, 'take': False, 'bought': False, 'better': False, 'review': False, 'sound': False, 'could': False, 'purchas': False, 'first': False, 'plug': False, 'color': False, 'problem': False, 'keep': False, 'port': False, 'seem': False, 'without': False, 'headset': False, 'hold': False, 'drop': False, 'around': False, 'galaxi': False, 'hard': False, 'bluetooth': False, 'call': False, 'pretti': False, 'samsung': False, 'order': False, 'enough': False, 'long': False, 'think': False, 'perfect': False, 'light': False, 'give': False, 'plastic': False, 'side': False, 'best': False, 'made': False, 'right': False, 'sinc': False, 'design': False, 'differ': False, 'issu': False, 'last': False, 'small': False, 'connect': False, 'know': False, 'anoth': False, 'came': False, 'easili': False, 'note': False, 'find': False, 'ipad': False, 'provid': False, 'they': False, 'howev': False, 'perfectli': False, 'receiv': False, 'hour': False, 'mani': False, 'actual': False, 'sure': False, 'month': False, 'though': False, 'replac': False, 'unit': False, 'speaker': False, 'place': False, 'expect': False, 'star': False, 'turn': False, 'cord': False, 'instal': False, 'item': False, 'pocket': False, 'headphon': False, 'hand': False, 'someth': False, 'never': False, 'size': False, 'fine': False, 'clear': False, 'cheap': False, 'remov': False, 'includ': False, 'volum': False, 'rubber': False, 'scratch': False, 'music': False, 'featur': False, 'alway': False, 'week': False, 'appl': False, 'life': False, 'part': False, 'touch': False, 'happi': False, 'year': False, 'there': False, 'peopl': False, 'found': False, 'definit': False, 'worth': False, 'start': False, 'veri': False, 'camera': False, 'mount': False, 'card': False, 'otterbox': False, 'amazon': False, 'pack': False, 'piec': False, 'everi': False, 'quit': False, 'black': False, 'open': False, 'test': False, 'tablet': False, 'other': False, 'full': False, 'extra': False, 'allow': False, 'front': False, 'adapt': False, 'reason': False, 'fast': False, 'carri': False, 'help': False, 'sever': False, 'pictur': False, 'stay': False, 'that': False, 'bubbl': False, 'when': False, 'packag': False, 'cell': False, 'money': False, 'almost': False, 'pair': False, 'origin': False, 'android': False, 'clip': False, 'second': False, 'bottom': False, 'thought': False, 'excel': False, 'stylu': False, 'function': False, 'took': False, 'away': False, 'notic': False, 'show': False, 'coupl': False, 'read': False, 'fall': False, 'ever': False, 'white': False, 'highli': False, 'home': False, 'comfort': False, 'chang': False, 'probabl': False, 'high': False, 'nexu': False, 'these': False, 'ship': False, 'overal': False, 'blue': False, 'offer': False, 'might': False, 'everyth': False, 'longer': False, 'stand': False, 'anyth': False, 'wall': False, 'three': False, 'said': False, 'quickli': False, 'play': False, 'press': False, 'rate': False, 'tell': False, 'hear': False, 'either': False, 'bulki': False, 'wife': False, 'wish': False, 'grip': False, 'left': False, 'exactli': False, 'clean': False, 'fact': False, 'wear': False, 'deal': False, 'slim': False, 'ipod': False, 'free': False, 'complet': False, 'glass': False, 'person': False, 'appli': False, 'anyon': False, 'brand': False, 'type': False, 'line': False, 'leav': False, 'durabl': False, 'mean': False, 'friend': False, 'updat': False, 'thin': False, 'care': False, 'awesom': False, 'travel': False, 'dock': False, 'simpl': False, 'alreadi': False, 'micro': False, 'close': False, 'went': False, 'switch': False, 'after': False, 'return': False, 'materi': False, 'compar': False, 'noth': False, 'control': False, 'fulli': False, 'minut': False, 'slide': False, 'arriv': False, 'custom': False, 'point': False, 'hope': False, 'especi': False, 'store': False, 'talk': False, 'plea': False, 'insid': False, 'least': False, 'thank': False, 'attach': False, 'cute': False, 'secur': False, 'recharg': False, 'voic': False, 'servic': False, 'stick': False, 'listen': False, 'short': False, 'kind': False, 'video': False, 'smartphon': False, 'just': False, 'dust': False, 'break': False, 'complaint': False, 'access': False, 'solid': False, 'although': False, 'super': False, 'sturdi': False, 'with': False, 'thick': False, 'cost': False, 'mine': False, 'difficult': False, 'soft': False, 'option': False, 'larg': False, 'motorola': False, 'mayb': False, 'worri': False, 'version': False, 'extend': False, 'audio': False, 'instead': False, 'easier': False, 'surfac': False, 'amaz': False, 'slightli': False, 'instruct': False, 'must': False, 'user': False, 'bulk': False, 'face': False, 'finger': False, 'real': False, 'connector': False, 'sometim': False, 'drive': False, 'decid': False, 'push': False, 'expens': False, 'disappoint': False, 'weight': False, 'watch': False, 'holster': False, 'droid': False, 'compani': False, 'silicon': False, 'gave': False, 'model': False, 'pull': False, 'impress': False, 'next': False, 'snap': False, 'move': False, 'corner': False, 'built': False, 'caus': False, 'cool': False, 'heavi': False, 'contact': False, 'outlet': False, 'indic': False, 'seller': False, 'damag': False, 'wireless': False, 'belt': False, 'smooth': False, 'standard': False, 'extrem': False, '8217': False, 'bright': False, 'decent': False, 'perform': False, 'consid': False, 'requir': False, 'usual': False, 'nois': False, 'addit': False, 'prefer': False, 'broke': False, 'slip': False, 'appear': False, 'portabl': False, 'area': False, 'support': False, 'adjust': False, 'done': False, 'experi': False, 'tight': False, 'stop': False, 'capac': False, 'gener': False, 'avail': False, 'guess': False, 'simpli': False, 'rather': False, 'normal': False, 'extern': False, 'comput': False, 'wrong': False, 'absolut': False, 'quick': False, 'basic': False, 'posit': False, 'base': False, 'wire': False, 'save': False, 'happen': False, 'finish': False, 'output': False, 'handi': False, 'wait': False, 'conveni': False, 'often': False, 'final': False, 'jack': False, 'holder': False, 'hole': False, 'kindl': False, 'half': False, 'total': False, 'current': False, 'pick': False, 'similar': False, 'beauti': False, 'room': False, 'verizon': False, 'water': False, 'rang': False, 'suppos': False, 'text': False, 'except': False, 'display': False, 'number': False, 'someon': False, 'within': False, 'mobil': False, 'lose': False, 'purs': False, 'blackberri': False, 'manufactur': False, 'what': False, 'magnet': False, 'annoy': False, 'mini': False, 'plan': False, 'head': False, 'surpris': False, 'smaller': False, 'multipl': False, 'anker': False, 'wonder': False, 'window': False, 'larger': False, 'smart': False, 'amount': False, 'slot': False, 'pink': False, 'mind': False, 'have': False, 'seen': False, 'strong': False, 'night': False, 'bumper': False, 'whole': False, 'style': False, 'data': False, 'mention': False, 'four': False, 'foot': False, 'purpos': False, 'check': False, 'daughter': False, 'past': False, 'send': False, 'applic': False, 'crack': False, 'flash': False, 'snug': False, 'signal': False, 'jabra': False, 'advertis': False, 'hous': False, 'figur': False, 'beat': False, 'idea': False, 'fairli': False, 'email': False, 'photo': False, 'googl': False, 'metal': False, 'activ': False, 'level': False, 'dual': False, 'valu': False, 'everyon': False, 'togeth': False, 'trip': False, 'while': False, 'direct': False, 'outsid': False, 'sleek': False, 'improv': False, 'gift': False, 'believ': False, 'earbud': False, 'shell': False, 'huge': False, 'unless': False, 'market': False, 'live': False, 'along': False, 'sent': False, 'loud': False, 'defend': False, 'bank': False, 'paid': False, 'system': False, 'nokia': False, 'peel': False, 'favorit': False, 'onto': False, 'keyboard': False, 'given': False, 'accessori': False, 'complain': False, 'film': False, 'compact': False, 'leather': False, 'apart': False, 'dont': False, 'cloth': False, 'matter': False, 'spend': False, 'cheaper': False, 'cours': False, 'answer': False, 'matt': False, 'state': False, 'husband': False, 'flat': False, 'onli': False, 'choic': False, 'build': False, 'upgrad': False, 'describ': False, 'stock': False, 'possibl': False, 'glad': False, 'result': False, 'properli': False, 'will': False, 'mode': False, 'later': False, 'inch': False, 'otherwis': False, 'faster': False, 'satisfi': False, 'write': False, 'cutout': False, 'previou': False, 'follow': False, 'juic': False, 'regular': False, 'becom': False, 'import': False, 'lost': False, 'bare': False, 'game': False, 'wast': False, 'singl': False, 'soon': False, 'enjoy': False, 'tini': False, 'view': False, 'speed': False, 'length': False, 'match': False, 'twice': False, 'electron': False, 'fingerprint': False, 'kept': False, 'suction': False, 'entir': False, 'miss': False, 'plantron': False, 'handl': False, 'concern': False, 'respons': False, 'separ': False, 'oper': False, 'attract': False, 'sync': False, 'textur': False, 'flip': False, 'sampl': False, 'unfortun': False, 'anyway': False, 'skin': False, 'effect': False, 'spare': False, 'famili': False, 'lightn': False, 'stereo': False, 'earpiec': False, 'limit': False, 'slipperi': False, 'bigger': False, 'near': False, 'suppli': False, 'backup': False, 'space': False, 'realiz': False, 'wallet': False, 'kickstand': False, 'stuff': False, 'hook': False, 'continu': False, 'five': False, 'higher': False, 'suggest': False, 'radio': False, 'laptop': False, 'lock': False, 'warranti': False, 'recent': False, 'felt': False, 'unlik': False, 'player': False, 'insert': False, 'minor': False, 'list': False, 'prevent': False, 'locat': False, 'tend': False, 'flexibl': False, 'okay': False, 'desk': False, 'immedi': False, 'today': False, 'sell': False, 'main': False, 'name': False, 'solut': False, 'belkin': False, 'held': False, 'microphon': False, 'hate': False, 'opinion': False, 'then': False, 'green': False, 'trent': False, 'bass': False, 'spigen': False, 'angl': False, 'depend': False, 'initi': False, 'poor': False, 'flimsi': False, 'commut': False, 'messag': False, 'constantli': False, 'sticki': False, 'shape': False, 'buck': False, 'drain': False, 'troubl': False, 'construct': False, 'lack': False, 'credit': False, 'tape': False, 'road': False, 'true': False, 'doubl': False, 'broken': False, 'fantast': False, 'inexpens': False, 'dead': False, 'understand': False, 'manual': False, 'offic': False, 'comment': False, 'fail': False, 'dollar': False, 'busi': False, 'lighter': False, 'thicker': False, 'armor': False, 'search': False, 'remain': False, 'safe': False, 'fold': False, 'stuck': False, 'wifi': False, 'usag': False, 'some': False, 'across': False, 'walk': False, 'spot': False, 'fire': False, 'capabl': False, 'fell': False, 'glove': False, 'otter': False, 'certainli': False, 'layer': False, 'compliment': False, 'abil': False, 'rest': False, 'incred': False, 'lower': False, 'resist': False, 'sort': False, 'compat': False, 'download': False, 'nearli': False, 'outer': False, 'reach': False, 'specif': False, 'mark': False, 'bother': False, 'honest': False, 'major': False, 'dash': False, 'tech': False, 'forget': False, 'form': False, 'word': False, 'deliv': False, 'print': False, 'softwar': False, 'sprint': False, 'clearli': False, 'claim': False, 'flashlight': False, 'block': False, 'pouch': False, 'hang': False, 'stylish': False, 'gotten': False, 'lightweight': False, 'none': False, 'daili': False, 'older': False, 'somewhat': False, 'directli': False, 'windshield': False, 'descript': False, 'slow': False, 'dirti': False, 'tool': False, 'band': False, 'chanc': False, 'plenti': False, 'intern': False, 'wrap': False, 'condit': False, 'averag': False, 'whatev': False, 'behind': False, 'stream': False, 'releas': False, 'accident': False, 'readi': False, 'combin': False, 'process': False, 'rememb': False, 'shield': False, 'minim': False, 'bodi': False, 'rais': False, 'tough': False, 'earphon': False, 'automat': False, 'click': False, 'sticker': False, 'practic': False, 'seri': False, 'typic': False, 'bring': False, 'internet': False, 'lint': False, 'variou': False, 'flap': False, 'navig': False, 'speak': False, 'technolog': False, 'futur': False, 'dark': False, 'cant': False, 'ring': False, 'slight': False, 'tabl': False, 'movi': False, 'manag': False, 'anywher': False, 'harder': False, 'mess': False, 'gadget': False, 'defect': False, 'razr': False, 'logo': False, 'retail': False, 'stretch': False, 'reliabl': False, 'pain': False, 'told': False, 'onlin': False, 'input': False, 'most': False, 'choos': False, 'built-in': False, 'increas': False, 'whether': False, 'throw': False, 't-mobil': False, 'both': False, 'micro-usb': False, 'memori': False, 'station': False, 'period': False, 'fair': False, 'sold': False, 'bump': False, 'heard': False, 'creat': False, 'straight': False, 'correctli': False, 'third': False, 'sourc': False, 'eventu': False, 'interfer': False, 'center': False, 'learn': False, 'purpl': False, 'label': False, 'on/off': False, 'mostli': False, 'wipe': False, 'term': False, 'screw': False, 'transfer': False, 'socket': False, 'profil': False, 'everyday': False, 'unlock': False, 'fault': False, 'sensit': False, 'cradl': False, 'clariti': False, 'vehicl': False, 'truli': False, 'dirt': False, 'medium': False, 'step': False, 'detail': False, 'storag': False, 'gone': False, 'special': False, 'useless': False, 'knew': False, 'track': False, 'expo': False, 'network': False, 'serv': False, 'cancel': False, 'align': False, 'waterproof': False, 'inform': False, 'imposs': False, 'background': False, 'adhes': False, 'mail': False, 'speakerphon': False, 'begin': False, 'accept': False, 'biggest': False, 'terribl': False, 'rubberi': False, 'slick': False, 'factor': False, 'wide': False, 'glare': False, 'correct': False, 'anymor': False, 'draw': False, 'question': False, 'afford': False, 'promis': False, 'jawbon': False, 'particular': False, 'doesnt': False, 'recept': False, 'certain': False, 'exact': False, 'websit': False, 'obvious': False, 'deliveri': False, 'altern': False, 'world': False, 'post': False, 'cellphon': False, 'crystal': False, 'avoid': False, 'imag': False, 'perhap': False, 'flaw': False, 'file': False, 'despit': False, 'intend': False, 'shock': False, 'forward': False, 'loop': False, 'snugli': False, 'sharp': False, 'emerg': False, 'floor': False, 'lift': False, 'becaus': False, 'digit': False, 'univers': False, 'refund': False, 'honestli': False, 'attempt': False, 'seal': False, 'wont': False, 'round': False, 'load': False, 'youtub': False, 'zagg': False, 'strap': False, 'forc': False, 'downsid': False, 'exchang': False, 'select': False, 'taken': False, 'middl': False, 'impact': False, 'bonu': False, 'retract': False, '2.1a': False, 'didnt': False, 'exampl': False, 'convers': False, 'overnight': False, 'speck': False, 'wors': False, 'reduc': False, 'frustrat': False, 'armband': False, 'horribl': False, 'shut': False, 'doubt': False, 'report': False, 'soni': False, 'dashboard': False, 'situat': False, 'curv': False, 'imagin': False, 'sensor': False, 'interest': False, 'book': False, 'page': False, 'occasion': False, 'inner': False, 'kinda': False, 'rough': False, 'suck': False, 'excit': False, 'command': False, 'share': False, 'simultan': False, 'glue': False, 'handset': False, 'portion': False, 'voyag': False, 'heat': False, 'grab': False, 'spent': False, 'invest': False, 'necessari': False, 'assum': False, 'caller': False, 'neck': False, 'parti': False, 'smudg': False, 'date': False, 'setup': False, 'plate': False, 'uncomfort': False, 'program': False, 'paper': False, 'lumia': False, 'seidio': False, 'knock': False, 'appreci': False, 'luck': False, 'meet': False, 'weak': False, 'site': False, 'frequent': False, 'affect': False, 'door': False, 'alot': False, 'spec': False, 'antenna': False, 'accur': False, 'solv': False, 'silver': False, 'premium': False, 'pressur': False, 'glossi': False, 'dial': False, 'mute': False, 'disconnect': False, 'adequ': False, 'varieti': False, 'liter': False, 'moto': False, 'environ': False, 'natur': False, 'driver': False, 'rotat': False, 'forev': False, 'electr': False, 'thinner': False, 'ride': False, 'prong': False, 'coat': False, 'hassl': False, 'strip': False, 'trust': False, 'uniqu': False, 'upon': False, 'statu': False, 'previous': False, 'hesit': False, 'yellow': False, 'awar': False, 'shop': False, 'carrier': False, 'song': False, 'unplug': False, 'vent': False, 'stylus': False, 'bose': False, 'newer': False, 'alon': False, 'gold': False, 'proof': False, 'research': False, 'orang': False, 'precis': False, 'coverag': False, 'meant': False, 'drawback': False, 'collect': False, 'frame': False, 'seat': False, 'chose': False, 'your': False, 'ideal': False, 'weird': False, 'visibl': False, 'chip': False, 'rare': False, 'swap': False, 'here': False, 'present': False, 'microusb': False, 'earlier': False, 'bike': False, 'hybrid': False, 'hardli': False, 'remot': False, 'warn': False, 'worst': False, 'shini': False, 'from': False, 'measur': False, 'confid': False, 'mophi': False, 'extens': False, 'shower': False, 'appar': False, 'palm': False, '.the': False, 'integr': False, 'skip': False, 'vendor': False, 'bill': False, 'vibrat': False, 'factori': False, 'bend': False, 'again': False, 'comparison': False, 'morn': False, 'stiff': False, 'icon': False, 'sleev': False, 'respond': False, 'combo': False, 'crazi': False, 'boost': False, 'link': False, 'cigarett': False, 'mirror': False, 'spring': False, 'junk': False, 'wind': False, 'local': False, 'attent': False, 'enabl': False, 'whenev': False, 'besid': False, 'interfac': False, 'china': False, 'effort': False, 'ultra': False, 'equal': False, 'distanc': False, 'zero': False, 'sleep': False, 'sweat': False, 'recogn': False, 'record': False, 'produc': False, 'aluminum': False, 'consist': False, 'panel': False, 'heavier': False, 'grippi': False, 'rock': False, 'kick': False, 'mistak': False, 'physic': False, 'benefit': False, 'neat': False, 'sister': False, 'particularli': False, 'static': False, 'regret': False, 'pant': False, 'hardwar': False, 'gear': False, 'cycl': False, 'therefor': False, 'distort': False, 'account': False, 'tear': False, 'incipio': False, 'repair': False, 'effici': False, 'experienc': False, 'somewher': False, 'vertic': False, 'error': False, 'rear': False, 'skinomi': False, 'landscap': False, 'eleg': False, 'ruin': False, 'maxx': False, 'shown': False, 'profession': False, 'christma': False, 'advantag': False, 'solar': False, 'mainli': False, 'catch': False, 'sign': False, 'flawlessli': False, 'clock': False, 'bunch': False, 'usabl': False, 'thumb': False, 'surprisingli': False, 'backpack': False, 'success': False, 'outdoor': False, 'shot': False, 'swipe': False, 'slowli': False, 'earli': False, 'awkward': False, 'superior': False, 'cheapli': False, 'common': False, 'serious': False, 'notif': False, 'tightli': False, 'suit': False, 'hurt': False, 'alarm': False, 'everywher': False, 'resolut': False, 'ugli': False, 'flush': False, 'touchscreen': False, 'owner': False, 'essenti': False, 'jean': False, 'maintain': False, 'deep': False, 'gripe': False, 'tire': False, 'surviv': False, 'saver': False, 'firmli': False, 'trick': False, 'discharg': False, 'degre': False, 'risk': False, 'moder': False, 'duti': False, 'girlfriend': False, 'over': False, 'sale': False, 'plain': False, 'edit': False, 'moment': False, 'crap': False, 'discov': False, 'horizont': False, '2013': False, '3.5mm': False, 'contract': False, 'clamp': False, 'more': False, 'regard': False, 'feedback': False, 'brought': False, 'toward': False, 'ahead': False, 'afraid': False, 'prior': False, 'ident': False, 'tone': False, 'brow': False, 'consider': False, 'truck': False, 'awhil': False, 'known': False, 'beyond': False, 'shorter': False, 'ball': False, 'shirt': False, 'worn': False, 'fill': False, 'surround': False, 'address': False, 'neither': False, 'accid': False, 'crisp': False, 'task': False, 'maximum': False, 'equip': False, 'charm': False, 'explain': False, 'prime': False, 'lifeproof': False, 'it.i': False, 'anti-glar': False, 'wash': False, 'weigh': False, 'admit': False, 'ensur': False, 'processor': False, 'skeptic': False, 'cushion': False, 'firm': False, 'prompt': False, 'warm': False, 'desktop': False, 'seriou': False, 'exist': False, 'latest': False, '8221': False, 'camp': False, 'squar': False, 'tangl': False, 'friendli': False, 'beep': False, 'potenti': False, 'consum': False, 'loss': False, 'boom': False, 'pattern': False, 'absorb': False, 'convert': False, 'ground': False, 'signific': False, 'bling': False, 'paint': False, 'skype': False, 'sport': False, 'slower': False, 'evalu': False, 'becam': False, 'proper': False, 'toss': False, 'method': False, 'balanc': False, 'menu': False, 'hair': False, 'genuin': False, 'befor': False, 'swivel': False, 'mechan': False, 'sorri': False, 'section': False, 'aspect': False, 'folk': False, 'cash': False, 'abus': False, 'repeat': False, 'concret': False, 'tooth': False, 'late': False, 'confus': False, 'privaci': False, 'numer': False, 'which': False, 'nail': False, 'microfib': False, 'obviou': False, 'brother': False, 'velcro': False, 'reflect': False, 'rigid': False, 'and/or': False, 'occas': False, 'hdmi': False, 'asid': False, 'bounc': False, 'buyer': False, 'fashion': False, 'brick': False, 'virtual': False, 'sheet': False, 'lifetim': False, 'trim': False, 'develop': False, 'poorli': False, 'perman': False, 'suffici': False, 'smoothli': False, 'glow': False, 'vibrant': False, 'inde': False, 'outstand': False, 'weather': False, 'accommod': False, 'constant': False, 'commun': False, 'fake': False, 'happier': False, 'paus': False, 'grey': False, 'underneath': False, 'caught': False, 'particl': False, 'enter': False, 'strength': False, 'powermat': False, 'land': False, 'aesthet': False, 'monitor': False, 'lead': False, 'fanci': False, 'rocker': False, 'began': False, 'stabl': False, 'iphone5': False, 'elimin': False, 'diztron': False, 'siii': False, 'contain': False, 'primari': False, 'suspect': False, 'roll': False, 'elsewher': False, 'agre': False, 'facebook': False, 'engin': False, 'voltag': False, 'dozen': False, 'code': False, 'root': False, 'portrait': False, 'blink': False, 'accord': False, 'louder': False, 'gray': False, 'tripod': False, 'girl': False, 'jump': False, 'remind': False, 'inconveni': False, 'standbi': False, 'ador': False, 'transpar': False, 'smell': False, 'mold': False, 'elago': False, 'reset': False, 'lanyard': False, 'optimu': False, 'stone': False, 'coil': False, 'workout': False, 'nicer': False, 'fear': False, 'pleasantli': False, 'incom': False, 'cut-out': False, 'ultim': False, 'fade': False, 'offici': False, 'ridicul': False, 'desir': False, 'concept': False, 'auto': False, 'wise': False, 'bold': False, 'ballist': False, 'luckili': False, 'versatil': False, 'yeah': False, 'somehow': False, 'vari': False, 'it.th': False, 'browser': False, 'exercis': False, 'difficulti': False, 'placement': False, 'fortun': False, 'invis': False, 'focu': False, 'transmitt': False, 'significantli': False, 'energi': False, 'blow': False, 'epic': False, 'threw': False, 'virgin': False, '8211': False, 'info': False, 'news': False, 'approxim': False, 'count': False, 'unabl': False, 'trade': False, 'powergen': False, 'kill': False, 'forgot': False, 'tricki': False, 'class': False, 'iphone4': False, 'notch': False, 'self': False, 'dedic': False, 'sunlight': False, 'detach': False, 'throughout': False, 'util': False, 'gorilla': False, 'guard': False, 'duracel': False, 'glide': False, 'bulkier': False, 'default': False, 'assembl': False, 'bargain': False, 'powerpak': False, 'challeng': False, 'squeez': False, 'babi': False, 'siri': False, 'confirm': False, 'closer': False, 'hyperion': False, 'motion': False, 'phone.i': False, 'excess': False, 'dimens': False, 'regardless': False, 'yesterday': False, 'nano': False, 'reciev': False, 'fragil': False, 'proprietari': False, 'intuit': False, 'guid': False, 'penni': False, 'frequenc': False, 'nake': False, 'substanti': False, 'adher': False, 'drag': False, 'pandora': False, 'whatsoev': False, 'spray': False, 'squeege': False, 'foam': False, 'bionic': False, 'tether': False, 'trash': False, 'hands-fre': False, 'adaptor': False, 'wrist': False, 'thru': False, 'consol': False, 'prone': False, 'technic': False, 'dislik': False, 'shatter': False, 'wake': False, 'letter': False, 'strang': False, 'partial': False, '8220': False, 'primarili': False, 'mother': False, 'classi': False, 'fallen': False, 'pixel': False, 'rain': False, 'park': False, 'fabric': False, 'configur': False, 'bathroom': False, 'core': False, 'licens': False, 'sweet': False, 'written': False, 'twist': False, 'podcast': False, 'hing': False, 'quiet': False, 'garbag': False, 'struggl': False, 'slimmer': False, 'hide': False, 'superb': False, '30-pin': False, 'till': False, 'distract': False, '2012': False, 'noisi': False, 'gorgeou': False, 'bewar': False, 'roughli': False, 'stori': False, 'shift': False, 'guarante': False, 'weekend': False, 'tilt': False, 'board': False, 'movement': False, 'height': False, 'flex': False, 'announc': False, 'titl': False, 'mesh': False, 'instantli': False, 'pricey': False, 'appeal': False, 'upper': False, 'softer': False, 'chrome': False, 'event': False, 'breez': False, 'bezel': False, 'advanc': False, 'jacket': False, 'shake': False, 'hotel': False, 'respect': False, 'kitchen': False, 'watt': False, 'wiggl': False, 'surf': False, 'competit': False, 'unus': False, 'width': False, 'wi-fi': False, 'regist': False, 'breaker': False, 'member': False, 'reader': False, 'muffl': False, 'interior': False, 'overli': False, 'firmwar': False, 'ebay': False, 'prove': False, 'tracfon': False, 'critic': False, 'stupid': False, 'loosen': False, 'basi': False, 'upload': False, 'opposit': False, 'reli': False, 'temper': False, 'summer': False, 'disappear': False, 'boyfriend': False, 'oppos': False, 'clumsi': False, 'action': False, 'recess': False, 'same': False, 'e-mail': False, 'jambox': False, 'rapid': False, 'thrill': False, 'content': False, 'wider': False, 'upsid': False, 'individu': False, 'school': False, 'estim': False, 'microsd': False, 'about': False, 'solidli': False, 'quicker': False, 'compromis': False, 'mile': False, 'each': False, 'disabl': False, 'tighten': False, 'unlimit': False, 'regularli': False, 'shame': False, 'thunderbolt': False, 'decis': False, 'shine': False, 'visual': False, 'copi': False, 'modern': False, 'tile': False, 'minimalist': False, 'document': False, 'child': False, 'dent': False, 'bent': False, 'safeti': False, 'cellular': False, 'male': False, 'field': False, 'atrix': False, 'tast': False, 'repres': False, 'burn': False, 'capacit': False, 'beach': False, 'countri': False, 'picki': False, 'enhanc': False, 'easiest': False, 'exterior': False, 'importantli': False, 'circl': False, 'popular': False, 'highest': False, 'percent': False, 'lucki': False, 'rainbow': False, 'darker': False, 'itun': False, 'flight': False, 'liquid': False, '10.1': False, 'compart': False, '9658': False, 'refer': False, 'canal': False, 'insur': False, 'meter': False, 'tune': False, 'prepar': False, 'pinch': False, 'residu': False, '8226': False, 'expand': False, 'closur': False, 'hello': False, 'anti': False, 'promptli': False, 'suffer': False, 'resolv': False, 'plane': False, 'those': False, 'phone.th': False, 'scroll': False, 'ding': False, 'instanc': False, 'darn': False, 'woman': False, 'sooner': False, 'appropri': False, 'recomend': False, 's-pen': False, 'detect': False, 'tactil': False, 'object': False, 'bols': False, 'request': False, 'booster': False, 'amazingli': False, 'vacat': False, 'flawless': False, 'airport': False, 'pebbl': False, 'orient': False, 'forth': False, 'batter': False, 'alert': False, 'greatest': False, 'opportun': False, 'netflix': False, 'pure': False, 'unbias': False, 'should': False, 'slider': False, 'settl': False, 'irrit': False, 'interchang': False, 'pleasant': False, 'stress': False, 'shoot': False, 'empti': False, 'wore': False, 'blueant': False, 'favor': False, 'upset': False, 'cumbersom': False, 'in-ear': False, 'microsoft': False, 'stronger': False, 'cardboard': False, 'envelop': False, 'tuck': False, 'manner': False, 'advis': False, 'destroy': False, 'echo': False, 'contrast': False, 'steal': False, 'ounc': False, 'ismooth': False, 'wrote': False, 'stitch': False, 'winner': False, 'femal': False, 'indoor': False, 'mini-usb': False, 'strongli': False, 'heck': False, 'ignor': False, 'jelli': False, 'freez': False, 'teenag': False, 'confer': False, 'hotspot': False, 'peac': False, 'tacki': False, 'sadli': False, 'rich': False, 'split': False, 'hundr': False, 'isnt': False, 'certifi': False, 'latch': False, 'calendar': False, 'fraction': False, 'audiophil': False, 'mall': False, 'macbook': False, 'narrow': False, 'clasp': False, 'volt': False, 'deserv': False, 'counter': False, 'grant': False, 'widget': False, 'bang': False, 'classic': False, 'henc': False, 'drawer': False, 'tylt': False, 'fight': False, 'delay': False, 'crappi': False, '9830': False, 'reboot': False, 'advic': False, 'funni': False, 'summari': False, 'powerbank': False, 'deplet': False, 'encount': False, 'reduct': False, 'moistur': False, 'sparkl': False, 'retain': False, 'their': False, 'polish': False, 'sand': False, 'citi': False, 'tradit': False, 'cold': False, 'fiber': False, 'kitti': False, 'playback': False, 'cent': False, 'determin': False, 'exceed': False, 'relat': False, 'occur': False, 'conclus': False, 'reconnect': False, 'friction': False, 'garmin': False, 'bulg': False, 'street': False, 'http': False, 'knife': False, 'launch': False, 'glitter': False, 'greatli': False, 'prepaid': False, 'silli': False, 'terrif': False, 'aftermarket': False, 'hike': False, 'protrud': False, 'maxboost': False, 'trap': False, 'bundl': False, 'refus': False, 'storm': False, 'steadi': False, 'heart': False, 'brush': False, 'scuff': False, 'wherea': False, 'amazonbas': False, 'project': False, 'trident': False, 'briefcas': False, 'amazon.com': False, 'welcom': False, 'repli': False, 'smallest': False, 'nook': False, 'seam': False, 'compet': False, 'isol': False, 'machin': False, 'compon': False, 'minimum': False, 'subject': False, 'cleaner': False, 'amperag': False, 'fingernail': False, 'defin': False, 'depth': False, 'laser': False, 'pool': False, 'dull': False, 'overpr': False, 'versu': False, 'delet': False, 'optim': False, 'among': False, 'astro': False, 'minu': False, 'treo': False, 'polycarbon': False, 'case.th': False, 'competitor': False, 'prop': False, 'familiar': False, 'iotti': False, 'misplac': False, 'render': False, 'boot': False, 'enclos': False, 'anytim': False, 'tmobil': False, 'random': False, 'griffin': False, 'decreas': False, 'brown': False, 'graphic': False, 'magic': False, 'town': False, 'mous': False, 'train': False, 'fiddl': False, 'nightstand': False, 'degrad': False, 'visor': False, 'amplifi': False, '16gb': False, 'circuit': False, 'telephon': False, 'intent': False, 'alright': False, 'assur': False, 'ridg': False, 'case.i': False, 'legend': False, 'reserv': False, 'snag': False, 'elast': False, 'frost': False, 'stabil': False, 'freedom': False, 'shipment': False, 'tinni': False, '2014': False, 'etc.': False, 'chine': False, 'wirelessli': False, 'non-appl': False, 'channel': False, 'demand': False, 'hidden': False, 'bore': False, 'crash': False, 'percentag': False, 'joint': False, 'rout': False, 'retina': False, 'birthday': False, 'modifi': False, 'worthless': False, 'wherev': False, 'a2dp': False, 'scan': False, 'subtl': False, 'brighter': False, 'backward': False, 'rezound': False, 'involv': False, 'rhineston': False, 'obstruct': False, 'withstand': False, 'sensat': False, 'candi': False, '.thi': False, 'restart': False, 'wasnt': False, 'girli': False, 'sturdier': False, 'rington': False, 'treat': False, 'budget': False, 'verifi': False, 'tighter': False, 'anybodi': False, '32gb': False, 'heavili': False, 'stain': False, 'blame': False, 'mouth': False, 'necessarili': False, 'caveat': False, 'bedroom': False, 'silent': False, 'glanc': False, 'failur': False, 'clunki': False, 'shade': False, 'patienc': False, 'thread': False, 'robust': False, 'greater': False, 'back-up': False, 'fool': False, 'joke': False, 'discolor': False, 'proxim': False, 'recognit': False, 'temperatur': False, 'unnecessari': False, 'brilliant': False, 'unobtrus': False, 'english': False, 'candyshel': False, 'gentli': False, 'tripl': False, 'grade': False, 'slid': False, 'hong': False, 'cheapest': False, 'alcohol': False, 'screwdriv': False, 'tray': False, 'convinc': False, 'revers': False, 'categori': False}\n"
     ]
    }
   ],
   "source": [
    "t = \"Iphone is working\"\n",
    "temp = extract_features(t.split())\n",
    "print(temp)"
   ]
  },
  {
   "cell_type": "markdown",
   "metadata": {},
   "source": [
    "#### Now we created list of feature and labels to use in different algorithms"
   ]
  },
  {
   "cell_type": "code",
   "execution_count": 46,
   "metadata": {},
   "outputs": [
    {
     "name": "stdout",
     "output_type": "stream",
     "text": [
      "<class 'list'>\n"
     ]
    }
   ],
   "source": [
    "print(type(listOfDicts))\n",
    "\n",
    "featuresList = []\n",
    "labelsList = []\n",
    "for review in listOfDicts:\n",
    "    featuresList.append(review[\"reviewText\"])\n",
    "    labelsList.append(review[\"overall\"])"
   ]
  },
  {
   "cell_type": "markdown",
   "metadata": {},
   "source": [
    "#### Here we fit the features list to use later"
   ]
  },
  {
   "cell_type": "raw",
   "metadata": {},
   "source": [
    "from sklearn.feature_extraction.text import TfidfVectorizer\n",
    "\n",
    "tfidf = TfidfVectorizer(sublinear_tf=True, min_df=5, norm='l2', encoding='latin-1', ngram_range=(1, 2), stop_words='english')\n",
    "\n",
    "\n",
    "    \n",
    "features = tfidf.fit_transform(featuresList)\n",
    "labels = labelsList\n",
    "features.shape"
   ]
  },
  {
   "cell_type": "markdown",
   "metadata": {},
   "source": [
    "#### Lets see the content of features list we created above"
   ]
  },
  {
   "cell_type": "code",
   "execution_count": 43,
   "metadata": {},
   "outputs": [
    {
     "name": "stdout",
     "output_type": "stream",
     "text": [
      "0         I feel so LUCKY to have found this used (phone...\n",
      "1         nice phone, nice up grade from my pantach revu...\n",
      "2                                              Very pleased\n",
      "3         It works good but it goes slow sometimes but i...\n",
      "4         Great phone to replace my lost phone. The only...\n",
      "5         I already had a phone with problems... I know ...\n",
      "6         The charging port was loose. I got that solder...\n",
      "7         Phone looks good but wouldn't stay charged, ha...\n",
      "8         I originally was using the Samsung S2 Galaxy f...\n",
      "9         It's battery life is great. It's very responsi...\n",
      "10        My fiance had this phone previously, but cause...\n",
      "11        This is a great product it came after two days...\n",
      "12        These guys are the best! I had a little situat...\n",
      "13        I'm really disappointed about my phone and ser...\n",
      "14        Ordered this phone as a replacement for the sa...\n",
      "15        Had this phone before and loved it but was not...\n",
      "16        I was able to get the phone I previously owned...\n",
      "17        I brought this phone as a replacement for my d...\n",
      "18        I love the phone. It does everything I need an...\n",
      "19        unfortunately Sprint could not activate the ph...\n",
      "20        The battery was old & had been over used becau...\n",
      "21        pros-beautiful screen,capable of running chrom...\n",
      "22        I purchased this phone in December as a christ...\n",
      "23        Phone good just a little slow phone old but it...\n",
      "24        Phone's speaker little low. Overall very happy...\n",
      "25        the phone was great and in good condition. My ...\n",
      "26        the reasons for the 3 star rating was it was i...\n",
      "27                    Phone works great. No problems at all\n",
      "28             was not in good condition but does work good\n",
      "29        Just... not good. The phone has great screen r...\n",
      "                                ...                        \n",
      "413810    I purchased the Samsung Convoy U640 for my eld...\n",
      "413811    My husband wanted rugged pho?ne for work. He i...\n",
      "413812    I never bought from Amazon before , but I real...\n",
      "413813    Iv'e never quite got used to the iphone and dr...\n",
      "413814    This is by far the best flip phone out there. ...\n",
      "413815    This phone is simple, very good , and it works...\n",
      "413816    Good sturdy phone for a pre-teen to have avail...\n",
      "413817    This is the second junk Convoy I have owned. T...\n",
      "413818    This cell phone provides the just the service ...\n",
      "413819    I BOUGHT THIS PHONE FOR MY HUSBAND AND HE LOVE...\n",
      "413820    They said phone was normal wear but it was a l...\n",
      "413821    You could shoot this out of a potato gun, and ...\n",
      "413822    Bought this for my mother and she loves it. Gr...\n",
      "413823    Excellent phone, as advertised. Love the push-...\n",
      "413824    works great and picks up signal in place my ot...\n",
      "413825    Great phone. Large keys, best flip phone I hav...\n",
      "413826    Pros...Works great, very durable, easy to navi...\n",
      "413827              just as described perfect for the price\n",
      "413828                                       Would not work\n",
      "413829     Speaker phone doesn't work, but phone works good\n",
      "413830                                              LOVE IT\n",
      "413831    Item was listed as new, but was not. When we t...\n",
      "413832    good rugged phone that has a long-lasting batt...\n",
      "413833                                    The phone is good\n",
      "413834                                            used hard\n",
      "413835                       another great deal great price\n",
      "413836                                                   Ok\n",
      "413837          Passes every drop test onto porcelain tile!\n",
      "413838    I returned it because it did not meet my needs...\n",
      "413839    Only downside is that apparently Verizon no lo...\n",
      "Name: Reviews, Length: 413840, dtype: object\n"
     ]
    }
   ],
   "source": [
    "print(featuresList)"
   ]
  },
  {
   "cell_type": "markdown",
   "metadata": {},
   "source": [
    "#### Import all classifiers/algorithms we are going to use later"
   ]
  },
  {
   "cell_type": "code",
   "execution_count": 20,
   "metadata": {},
   "outputs": [],
   "source": [
    "from sklearn.linear_model import LogisticRegression\n",
    "from sklearn.ensemble import RandomForestClassifier\n",
    "from sklearn.naive_bayes import MultinomialNB\n",
    "from sklearn.svm import LinearSVC\n",
    "\n",
    "from sklearn.model_selection import cross_val_score\n",
    "import pandas as pd"
   ]
  },
  {
   "cell_type": "markdown",
   "metadata": {},
   "source": [
    "#### Select few of the features and labels for training"
   ]
  },
  {
   "cell_type": "code",
   "execution_count": 21,
   "metadata": {},
   "outputs": [
    {
     "name": "stdout",
     "output_type": "stream",
     "text": [
      "(70000, 247011)\n",
      "70000\n"
     ]
    }
   ],
   "source": [
    "featuresTemp = features[:70000]\n",
    "labelsTemp = labels[:70000]\n",
    "print(featuresTemp.shape)\n",
    "print(len(labelsTemp))"
   ]
  },
  {
   "cell_type": "markdown",
   "metadata": {},
   "source": [
    "#### Here we will run the algorithms on the training data we selected above. Also we are running all alogrithms in one go."
   ]
  },
  {
   "cell_type": "code",
   "execution_count": 22,
   "metadata": {},
   "outputs": [],
   "source": [
    "models = [\n",
    "    RandomForestClassifier(n_estimators=200, max_depth=3, random_state=0),\n",
    "    LinearSVC(),\n",
    "    MultinomialNB(),\n",
    "    LogisticRegression(random_state=0),\n",
    "]\n",
    "CV = 5\n",
    "cv_df = pd.DataFrame(index=range(CV * len(models)))\n",
    "entries = []\n",
    "for model in models:\n",
    "    model_name = model.__class__.__name__\n",
    "    accuracies = cross_val_score(model, featuresTemp, labelsTemp, scoring='accuracy', cv=CV)\n",
    "    for fold_idx, accuracy in enumerate(accuracies):\n",
    "        entries.append((model_name, fold_idx, accuracy))\n",
    "\n",
    "cv_df = pd.DataFrame(entries, columns=['model_name', 'fold_idx', 'accuracy'])"
   ]
  },
  {
   "cell_type": "markdown",
   "metadata": {},
   "source": [
    "#### Lets check the accuracy of the algorithms we ran above"
   ]
  },
  {
   "cell_type": "code",
   "execution_count": 23,
   "metadata": {},
   "outputs": [
    {
     "data": {
      "text/plain": [
       "model_name\n",
       "LinearSVC                 0.606400\n",
       "LogisticRegression        0.609100\n",
       "MultinomialNB             0.527229\n",
       "RandomForestClassifier    0.526671\n",
       "Name: accuracy, dtype: float64"
      ]
     },
     "execution_count": 23,
     "metadata": {},
     "output_type": "execute_result"
    }
   ],
   "source": [
    "cv_df.groupby('model_name').accuracy.mean()"
   ]
  },
  {
   "cell_type": "markdown",
   "metadata": {},
   "source": [
    "#### Now we will save each of the models we got above"
   ]
  },
  {
   "cell_type": "code",
   "execution_count": 24,
   "metadata": {},
   "outputs": [],
   "source": [
    "\n",
    "for model in models:\n",
    "    model_name = model.__class__.__name__\n",
    "    pickle.dump(classifier,open('Models/' + model_name,'wb'))"
   ]
  },
  {
   "cell_type": "markdown",
   "metadata": {},
   "source": [
    "#### Here we are trying to train using neural network"
   ]
  },
  {
   "cell_type": "code",
   "execution_count": 25,
   "metadata": {},
   "outputs": [
    {
     "data": {
      "text/plain": [
       "MLPClassifier(activation='relu', alpha=0.0001, batch_size='auto', beta_1=0.9,\n",
       "       beta_2=0.999, early_stopping=False, epsilon=1e-08,\n",
       "       hidden_layer_sizes=(30, 30, 30), learning_rate='constant',\n",
       "       learning_rate_init=0.001, max_iter=200, momentum=0.9,\n",
       "       nesterovs_momentum=True, power_t=0.5, random_state=None,\n",
       "       shuffle=True, solver='adam', tol=0.0001, validation_fraction=0.1,\n",
       "       verbose=False, warm_start=False)"
      ]
     },
     "execution_count": 25,
     "metadata": {},
     "output_type": "execute_result"
    }
   ],
   "source": [
    "from sklearn.model_selection import train_test_split\n",
    "X_train, X_test, y_train, y_test = train_test_split(featuresTemp, labelsTemp)\n",
    "\n",
    "from sklearn.preprocessing import StandardScaler\n",
    "scaler = StandardScaler(with_mean=False)\n",
    "scaler.fit(X_train)\n",
    "X_train = scaler.transform(X_train)\n",
    "X_test = scaler.transform(X_test)\n",
    "\n",
    "from sklearn.neural_network import MLPClassifier\n",
    "mlp = MLPClassifier(hidden_layer_sizes=(30,30,30))\n",
    "mlp.fit(X_train,y_train)\n"
   ]
  },
  {
   "cell_type": "markdown",
   "metadata": {},
   "source": [
    "#### Saving the trained neural network for later use"
   ]
  },
  {
   "cell_type": "code",
   "execution_count": 26,
   "metadata": {},
   "outputs": [],
   "source": [
    "pickle.dump(mlp,open('Models/NeuralNetwork','wb'))"
   ]
  },
  {
   "cell_type": "markdown",
   "metadata": {},
   "source": [
    "#### Now we are trying to load the saved model and test accuracy of it."
   ]
  },
  {
   "cell_type": "code",
   "execution_count": 28,
   "metadata": {},
   "outputs": [
    {
     "name": "stdout",
     "output_type": "stream",
     "text": [
      "0.4946285714285714\n"
     ]
    }
   ],
   "source": [
    "mlp2 = pickle.load(open('Models/NeuralNetwork','rb'))\n",
    "predictions = mlp2.predict(X_test)\n",
    "\n",
    "from sklearn.metrics import accuracy_score\n",
    "print(accuracy_score(y_test,predictions))"
   ]
  },
  {
   "cell_type": "markdown",
   "metadata": {},
   "source": [
    "#### Loading new data set"
   ]
  },
  {
   "cell_type": "code",
   "execution_count": 127,
   "metadata": {},
   "outputs": [],
   "source": [
    "import pandas as pd\n",
    "data = pd.read_csv('Amazon_Unlocked_Mobile.csv')\n"
   ]
  },
  {
   "cell_type": "markdown",
   "metadata": {},
   "source": [
    "#### Shuffle the loaded data to randomly select data while training"
   ]
  },
  {
   "cell_type": "code",
   "execution_count": 128,
   "metadata": {},
   "outputs": [],
   "source": [
    "from sklearn.utils import shuffle\n",
    "data = shuffle(data)"
   ]
  },
  {
   "cell_type": "markdown",
   "metadata": {},
   "source": [
    "#### Checking the number of records for each rating"
   ]
  },
  {
   "cell_type": "code",
   "execution_count": 129,
   "metadata": {},
   "outputs": [
    {
     "name": "stdout",
     "output_type": "stream",
     "text": [
      "12026\n",
      "4193\n",
      "5500\n",
      "10432\n",
      "37849\n"
     ]
    }
   ],
   "source": [
    "data_2 = data[:70000]\n",
    "data_3 = data_2[['Rating','Reviews']]\n",
    "data_3_1 = data_3[data_3.Rating == 1]\n",
    "data_3_2 = data_3[data_3.Rating == 2]\n",
    "data_3_3 = data_3[data_3.Rating == 3]\n",
    "data_3_4 = data_3[data_3.Rating == 4]\n",
    "data_3_5 = data_3[data_3.Rating == 5]\n",
    "print(len(data_3_1))\n",
    "print(len(data_3_2))\n",
    "print(len(data_3_3))\n",
    "print(len(data_3_4))\n",
    "print(len(data_3_5))"
   ]
  },
  {
   "cell_type": "markdown",
   "metadata": {},
   "source": [
    "#### Select data columns in the data_2 dataframe"
   ]
  },
  {
   "cell_type": "code",
   "execution_count": 130,
   "metadata": {},
   "outputs": [],
   "source": [
    "rat_data = data_2['Rating']\n",
    "rev_data = data_2['Reviews']"
   ]
  },
  {
   "cell_type": "markdown",
   "metadata": {},
   "source": [
    "#### Fitting the data to extract features to be used later"
   ]
  },
  {
   "cell_type": "code",
   "execution_count": 131,
   "metadata": {},
   "outputs": [],
   "source": [
    "tfidf = TfidfVectorizer(sublinear_tf=True, norm='l2', encoding='latin-1', ngram_range=(1, 2), stop_words='english')\n",
    "\n",
    "features = tfidf.fit_transform(rev_data.values.astype('U'))\n",
    "labels = rat_data\n"
   ]
  },
  {
   "cell_type": "markdown",
   "metadata": {},
   "source": [
    "#### Running the Linear SVC on new data set"
   ]
  },
  {
   "cell_type": "code",
   "execution_count": 77,
   "metadata": {},
   "outputs": [],
   "source": [
    "models = [\n",
    "    \n",
    "    LinearSVC(),\n",
    "    \n",
    "]\n",
    "CV = 5\n",
    "cv_df = pd.DataFrame(index=range(CV * len(models)))\n",
    "entries = []\n",
    "for model in models:\n",
    "    model_name = model.__class__.__name__\n",
    "    accuracies = cross_val_score(model, featuresTemp, labelsTemp, scoring='accuracy', cv=CV)\n",
    "    for fold_idx, accuracy in enumerate(accuracies):\n",
    "        entries.append((model_name, fold_idx, accuracy))\n",
    "\n",
    "cv_df = pd.DataFrame(entries, columns=['model_name', 'fold_idx', 'accuracy'])"
   ]
  },
  {
   "cell_type": "markdown",
   "metadata": {},
   "source": [
    "#### Checking the accuracy of the classifier"
   ]
  },
  {
   "cell_type": "code",
   "execution_count": 78,
   "metadata": {},
   "outputs": [
    {
     "data": {
      "text/plain": [
       "model_name\n",
       "LinearSVC    0.6064\n",
       "Name: accuracy, dtype: float64"
      ]
     },
     "execution_count": 78,
     "metadata": {},
     "output_type": "execute_result"
    }
   ],
   "source": [
    "cv_df.groupby('model_name').accuracy.mean()"
   ]
  },
  {
   "cell_type": "markdown",
   "metadata": {},
   "source": [
    "#### Here we are trying to fit after train and test split"
   ]
  },
  {
   "cell_type": "code",
   "execution_count": 132,
   "metadata": {},
   "outputs": [
    {
     "data": {
      "text/plain": [
       "LinearSVC(C=1.0, class_weight=None, dual=True, fit_intercept=True,\n",
       "     intercept_scaling=1, loss='squared_hinge', max_iter=1000,\n",
       "     multi_class='ovr', penalty='l2', random_state=None, tol=0.0001,\n",
       "     verbose=0)"
      ]
     },
     "execution_count": 132,
     "metadata": {},
     "output_type": "execute_result"
    }
   ],
   "source": [
    "model = LinearSVC()\n",
    "X_train, X_test, y_train, y_test, indices_train, indices_test = train_test_split(features, labels, data_2.index, test_size=0.33, random_state=0)\n",
    "model.fit(X_train, y_train)"
   ]
  },
  {
   "cell_type": "markdown",
   "metadata": {},
   "source": [
    "#### Predicting the output using classifier we created above"
   ]
  },
  {
   "cell_type": "code",
   "execution_count": 133,
   "metadata": {},
   "outputs": [
    {
     "name": "stdout",
     "output_type": "stream",
     "text": [
      "[1]\n"
     ]
    }
   ],
   "source": [
    "list_1 = []\n",
    "list_1.append('iphone is worst ')\n",
    "inp = tfidf.transform(list_1)\n",
    "out2 = model.predict(inp)\n",
    "print(out2)"
   ]
  },
  {
   "cell_type": "markdown",
   "metadata": {},
   "source": [
    "#### Saving the model and TfidfVectorizer to use for prediction later"
   ]
  },
  {
   "cell_type": "code",
   "execution_count": 134,
   "metadata": {},
   "outputs": [],
   "source": [
    "pickle.dump(tfidf,open('Models/tfidf','wb'))\n",
    "pickle.dump(model,open('Models/LinearSVC','wb'))"
   ]
  }
 ],
 "metadata": {
  "kernelspec": {
   "display_name": "Python 3",
   "language": "python",
   "name": "python3"
  },
  "language_info": {
   "codemirror_mode": {
    "name": "ipython",
    "version": 3
   },
   "file_extension": ".py",
   "mimetype": "text/x-python",
   "name": "python",
   "nbconvert_exporter": "python",
   "pygments_lexer": "ipython3",
   "version": "3.6.4"
  }
 },
 "nbformat": 4,
 "nbformat_minor": 2
}
